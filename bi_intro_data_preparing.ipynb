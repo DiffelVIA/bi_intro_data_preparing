{
 "cells": [
  {
   "cell_type": "markdown",
   "id": "f2a95a08",
   "metadata": {},
   "source": [
    "# Introduction"
   ]
  },
  {
   "cell_type": "markdown",
   "id": "ace31631",
   "metadata": {},
   "source": [
    "# Libraries and Data loading"
   ]
  },
  {
   "cell_type": "code",
   "execution_count": 214,
   "id": "f19669b9",
   "metadata": {},
   "outputs": [],
   "source": [
    "import pandas as pd\n",
    "import numpy as np\n",
    "import seaborn as sns\n",
    "import matplotlib.pyplot as plt\n",
    "%matplotlib inline"
   ]
  },
  {
   "cell_type": "code",
   "execution_count": 215,
   "id": "a3201425",
   "metadata": {},
   "outputs": [],
   "source": [
    "df = pd.read_csv(r'D:\\Data analyst\\datasets_kaggle\\bi.csv',encoding='latin1')"
   ]
  },
  {
   "cell_type": "markdown",
   "id": "80194b57",
   "metadata": {},
   "source": [
    "# Data preview"
   ]
  },
  {
   "cell_type": "markdown",
   "id": "5c904a04",
   "metadata": {},
   "source": [
    "**Columns and rows**"
   ]
  },
  {
   "cell_type": "code",
   "execution_count": 216,
   "id": "62d5ddf1",
   "metadata": {},
   "outputs": [
    {
     "data": {
      "text/html": [
       "<div>\n",
       "<style scoped>\n",
       "    .dataframe tbody tr th:only-of-type {\n",
       "        vertical-align: middle;\n",
       "    }\n",
       "\n",
       "    .dataframe tbody tr th {\n",
       "        vertical-align: top;\n",
       "    }\n",
       "\n",
       "    .dataframe thead th {\n",
       "        text-align: right;\n",
       "    }\n",
       "</style>\n",
       "<table border=\"1\" class=\"dataframe\">\n",
       "  <thead>\n",
       "    <tr style=\"text-align: right;\">\n",
       "      <th></th>\n",
       "      <th>fNAME</th>\n",
       "      <th>lNAME</th>\n",
       "      <th>Age</th>\n",
       "      <th>gender</th>\n",
       "      <th>country</th>\n",
       "      <th>residence</th>\n",
       "      <th>entryEXAM</th>\n",
       "      <th>prevEducation</th>\n",
       "      <th>studyHOURS</th>\n",
       "      <th>Python</th>\n",
       "      <th>DB</th>\n",
       "    </tr>\n",
       "  </thead>\n",
       "  <tbody>\n",
       "    <tr>\n",
       "      <th>0</th>\n",
       "      <td>Christina</td>\n",
       "      <td>Binger</td>\n",
       "      <td>44</td>\n",
       "      <td>Female</td>\n",
       "      <td>Norway</td>\n",
       "      <td>Private</td>\n",
       "      <td>72</td>\n",
       "      <td>Masters</td>\n",
       "      <td>158</td>\n",
       "      <td>59.000000</td>\n",
       "      <td>55</td>\n",
       "    </tr>\n",
       "    <tr>\n",
       "      <th>1</th>\n",
       "      <td>Alex</td>\n",
       "      <td>Walekhwa</td>\n",
       "      <td>60</td>\n",
       "      <td>M</td>\n",
       "      <td>Kenya</td>\n",
       "      <td>Private</td>\n",
       "      <td>79</td>\n",
       "      <td>Diploma</td>\n",
       "      <td>150</td>\n",
       "      <td>60.000000</td>\n",
       "      <td>75</td>\n",
       "    </tr>\n",
       "    <tr>\n",
       "      <th>2</th>\n",
       "      <td>Philip</td>\n",
       "      <td>Leo</td>\n",
       "      <td>25</td>\n",
       "      <td>Male</td>\n",
       "      <td>Uganda</td>\n",
       "      <td>Sognsvann</td>\n",
       "      <td>55</td>\n",
       "      <td>HighSchool</td>\n",
       "      <td>130</td>\n",
       "      <td>74.000000</td>\n",
       "      <td>50</td>\n",
       "    </tr>\n",
       "    <tr>\n",
       "      <th>3</th>\n",
       "      <td>Shoni</td>\n",
       "      <td>Hlongwane</td>\n",
       "      <td>22</td>\n",
       "      <td>F</td>\n",
       "      <td>Rsa</td>\n",
       "      <td>Sognsvann</td>\n",
       "      <td>40</td>\n",
       "      <td>High School</td>\n",
       "      <td>120</td>\n",
       "      <td>NaN</td>\n",
       "      <td>44</td>\n",
       "    </tr>\n",
       "    <tr>\n",
       "      <th>4</th>\n",
       "      <td>Maria</td>\n",
       "      <td>Kedibone</td>\n",
       "      <td>23</td>\n",
       "      <td>Female</td>\n",
       "      <td>South Africa</td>\n",
       "      <td>Sognsvann</td>\n",
       "      <td>65</td>\n",
       "      <td>High School</td>\n",
       "      <td>122</td>\n",
       "      <td>91.000000</td>\n",
       "      <td>80</td>\n",
       "    </tr>\n",
       "  </tbody>\n",
       "</table>\n",
       "</div>"
      ],
      "text/plain": [
       "       fNAME      lNAME  Age  gender       country  residence  entryEXAM  \\\n",
       "0  Christina     Binger   44  Female        Norway    Private         72   \n",
       "1       Alex   Walekhwa   60       M         Kenya    Private         79   \n",
       "2     Philip        Leo   25    Male        Uganda  Sognsvann         55   \n",
       "3      Shoni  Hlongwane   22       F           Rsa  Sognsvann         40   \n",
       "4      Maria   Kedibone   23  Female  South Africa  Sognsvann         65   \n",
       "\n",
       "  prevEducation  studyHOURS    Python  DB  \n",
       "0       Masters         158 59.000000  55  \n",
       "1       Diploma         150 60.000000  75  \n",
       "2    HighSchool         130 74.000000  50  \n",
       "3   High School         120       NaN  44  \n",
       "4   High School         122 91.000000  80  "
      ]
     },
     "execution_count": 216,
     "metadata": {},
     "output_type": "execute_result"
    }
   ],
   "source": [
    "pd.set_option('display.float_format','{:.6f}'.format) #Codigo utilizado para definir 6 decimales por defecto\n",
    "df.head()"
   ]
  },
  {
   "cell_type": "code",
   "execution_count": 217,
   "id": "9625c905",
   "metadata": {},
   "outputs": [
    {
     "name": "stdout",
     "output_type": "stream",
     "text": [
      "Total rows: 77 \n",
      "Total columns: 11\n",
      "--------------------------------------------------\n",
      "<class 'pandas.core.frame.DataFrame'>\n",
      "RangeIndex: 77 entries, 0 to 76\n",
      "Data columns (total 11 columns):\n",
      " #   Column         Non-Null Count  Dtype  \n",
      "---  ------         --------------  -----  \n",
      " 0   fNAME          77 non-null     object \n",
      " 1   lNAME          77 non-null     object \n",
      " 2   Age            77 non-null     int64  \n",
      " 3   gender         77 non-null     object \n",
      " 4   country        77 non-null     object \n",
      " 5   residence      77 non-null     object \n",
      " 6   entryEXAM      77 non-null     int64  \n",
      " 7   prevEducation  77 non-null     object \n",
      " 8   studyHOURS     77 non-null     int64  \n",
      " 9   Python         75 non-null     float64\n",
      " 10  DB             77 non-null     int64  \n",
      "dtypes: float64(1), int64(4), object(6)\n",
      "memory usage: 6.7+ KB\n",
      "None\n"
     ]
    }
   ],
   "source": [
    "print(f\"Total rows: {df.shape[0]} \\nTotal columns: {df.shape[1]}\")\n",
    "print('-'*50)\n",
    "print(df.info())"
   ]
  },
  {
   "cell_type": "markdown",
   "id": "08af849f",
   "metadata": {},
   "source": [
    "**Summary Statistics**"
   ]
  },
  {
   "cell_type": "code",
   "execution_count": 218,
   "id": "e840dea6",
   "metadata": {},
   "outputs": [
    {
     "data": {
      "text/html": [
       "<div>\n",
       "<style scoped>\n",
       "    .dataframe tbody tr th:only-of-type {\n",
       "        vertical-align: middle;\n",
       "    }\n",
       "\n",
       "    .dataframe tbody tr th {\n",
       "        vertical-align: top;\n",
       "    }\n",
       "\n",
       "    .dataframe thead th {\n",
       "        text-align: right;\n",
       "    }\n",
       "</style>\n",
       "<table border=\"1\" class=\"dataframe\">\n",
       "  <thead>\n",
       "    <tr style=\"text-align: right;\">\n",
       "      <th></th>\n",
       "      <th>Age</th>\n",
       "      <th>entryEXAM</th>\n",
       "      <th>studyHOURS</th>\n",
       "      <th>Python</th>\n",
       "      <th>DB</th>\n",
       "    </tr>\n",
       "  </thead>\n",
       "  <tbody>\n",
       "    <tr>\n",
       "      <th>count</th>\n",
       "      <td>77.000000</td>\n",
       "      <td>77.000000</td>\n",
       "      <td>77.000000</td>\n",
       "      <td>75.000000</td>\n",
       "      <td>77.000000</td>\n",
       "    </tr>\n",
       "    <tr>\n",
       "      <th>mean</th>\n",
       "      <td>35.207792</td>\n",
       "      <td>76.753247</td>\n",
       "      <td>149.714286</td>\n",
       "      <td>75.853333</td>\n",
       "      <td>69.467532</td>\n",
       "    </tr>\n",
       "    <tr>\n",
       "      <th>std</th>\n",
       "      <td>10.341966</td>\n",
       "      <td>16.475784</td>\n",
       "      <td>12.743272</td>\n",
       "      <td>15.410328</td>\n",
       "      <td>17.033701</td>\n",
       "    </tr>\n",
       "    <tr>\n",
       "      <th>min</th>\n",
       "      <td>21.000000</td>\n",
       "      <td>28.000000</td>\n",
       "      <td>114.000000</td>\n",
       "      <td>15.000000</td>\n",
       "      <td>30.000000</td>\n",
       "    </tr>\n",
       "    <tr>\n",
       "      <th>25%</th>\n",
       "      <td>27.000000</td>\n",
       "      <td>69.000000</td>\n",
       "      <td>144.000000</td>\n",
       "      <td>71.000000</td>\n",
       "      <td>56.000000</td>\n",
       "    </tr>\n",
       "    <tr>\n",
       "      <th>50%</th>\n",
       "      <td>33.000000</td>\n",
       "      <td>80.000000</td>\n",
       "      <td>156.000000</td>\n",
       "      <td>81.000000</td>\n",
       "      <td>71.000000</td>\n",
       "    </tr>\n",
       "    <tr>\n",
       "      <th>75%</th>\n",
       "      <td>42.000000</td>\n",
       "      <td>90.000000</td>\n",
       "      <td>158.000000</td>\n",
       "      <td>85.000000</td>\n",
       "      <td>83.000000</td>\n",
       "    </tr>\n",
       "    <tr>\n",
       "      <th>max</th>\n",
       "      <td>71.000000</td>\n",
       "      <td>98.000000</td>\n",
       "      <td>160.000000</td>\n",
       "      <td>91.000000</td>\n",
       "      <td>100.000000</td>\n",
       "    </tr>\n",
       "  </tbody>\n",
       "</table>\n",
       "</div>"
      ],
      "text/plain": [
       "            Age  entryEXAM  studyHOURS    Python         DB\n",
       "count 77.000000  77.000000   77.000000 75.000000  77.000000\n",
       "mean  35.207792  76.753247  149.714286 75.853333  69.467532\n",
       "std   10.341966  16.475784   12.743272 15.410328  17.033701\n",
       "min   21.000000  28.000000  114.000000 15.000000  30.000000\n",
       "25%   27.000000  69.000000  144.000000 71.000000  56.000000\n",
       "50%   33.000000  80.000000  156.000000 81.000000  71.000000\n",
       "75%   42.000000  90.000000  158.000000 85.000000  83.000000\n",
       "max   71.000000  98.000000  160.000000 91.000000 100.000000"
      ]
     },
     "execution_count": 218,
     "metadata": {},
     "output_type": "execute_result"
    }
   ],
   "source": [
    "df.describe()"
   ]
  },
  {
   "cell_type": "markdown",
   "id": "0b70824c",
   "metadata": {},
   "source": [
    "# Data cleaning"
   ]
  },
  {
   "cell_type": "markdown",
   "id": "827c612e",
   "metadata": {},
   "source": [
    "**Column names**"
   ]
  },
  {
   "cell_type": "code",
   "execution_count": 219,
   "id": "7f1b8648",
   "metadata": {},
   "outputs": [],
   "source": [
    "df.columns = df.columns.str.strip().str.lower().str.replace('name','_name')"
   ]
  },
  {
   "cell_type": "code",
   "execution_count": 220,
   "id": "b0296fc9",
   "metadata": {},
   "outputs": [
    {
     "data": {
      "text/plain": [
       "Index(['f_name', 'l_name', 'age', 'gender', 'country', 'residence',\n",
       "       'entryexam', 'preveducation', 'studyhours', 'python', 'db'],\n",
       "      dtype='object')"
      ]
     },
     "execution_count": 220,
     "metadata": {},
     "output_type": "execute_result"
    }
   ],
   "source": [
    "df.columns"
   ]
  },
  {
   "cell_type": "code",
   "execution_count": 221,
   "id": "b0e6bea9",
   "metadata": {},
   "outputs": [
    {
     "data": {
      "text/plain": [
       "Index(['first_name', 'last_name', 'age', 'gender', 'country', 'residence',\n",
       "       'entry_exam', 'previous_education', 'study_hours', 'python', 'db'],\n",
       "      dtype='object')"
      ]
     },
     "execution_count": 221,
     "metadata": {},
     "output_type": "execute_result"
    }
   ],
   "source": [
    "rename_cols = {\n",
    "    'f_name':'first_name',\n",
    "    'l_name':'last_name',\n",
    "    'entryexam':'entry_exam',\n",
    "    'preveducation':'previous_education',\n",
    "    'studyhours':'study_hours'\n",
    "}\n",
    "df.rename(columns=rename_cols, inplace=True)\n",
    "df.columns"
   ]
  },
  {
   "cell_type": "markdown",
   "id": "b82c45bf",
   "metadata": {},
   "source": [
    "**Normalize gender**"
   ]
  },
  {
   "cell_type": "code",
   "execution_count": 222,
   "id": "ae6f5487",
   "metadata": {},
   "outputs": [
    {
     "data": {
      "text/plain": [
       "array(['Female', 'M', 'Male', 'F', 'female', 'male'], dtype=object)"
      ]
     },
     "execution_count": 222,
     "metadata": {},
     "output_type": "execute_result"
    }
   ],
   "source": [
    "df['gender'].unique()"
   ]
  },
  {
   "cell_type": "markdown",
   "id": "e4787af8",
   "metadata": {},
   "source": [
    "The column gender has multiple notations for the same gender."
   ]
  },
  {
   "cell_type": "code",
   "execution_count": 223,
   "id": "31aeaff0",
   "metadata": {},
   "outputs": [],
   "source": [
    "gender_map = {\n",
    "    'F':'Female','female':'Female','Female':'Female',\n",
    "    'M':'Male','male':'Male','Male':'Male'\n",
    "}\n",
    "\n",
    "df['gender'] = df['gender'].map(lambda x: gender_map.get(str(x).strip(),'Other'))"
   ]
  },
  {
   "cell_type": "code",
   "execution_count": 224,
   "id": "49d2a116",
   "metadata": {},
   "outputs": [
    {
     "data": {
      "text/plain": [
       "array(['Female', 'Male'], dtype=object)"
      ]
     },
     "execution_count": 224,
     "metadata": {},
     "output_type": "execute_result"
    }
   ],
   "source": [
    "df['gender'].unique()"
   ]
  },
  {
   "cell_type": "markdown",
   "id": "b6ea0024",
   "metadata": {},
   "source": [
    "**Count gender values**"
   ]
  },
  {
   "cell_type": "code",
   "execution_count": 225,
   "id": "d09eb89c",
   "metadata": {},
   "outputs": [
    {
     "data": {
      "text/plain": [
       "gender\n",
       "Female    43\n",
       "Male      34\n",
       "Name: count, dtype: int64"
      ]
     },
     "execution_count": 225,
     "metadata": {},
     "output_type": "execute_result"
    }
   ],
   "source": [
    "df['gender'].value_counts()"
   ]
  },
  {
   "cell_type": "markdown",
   "id": "d374a1e1",
   "metadata": {},
   "source": [
    "**Normalize education**"
   ]
  },
  {
   "cell_type": "code",
   "execution_count": 226,
   "id": "339c78ab",
   "metadata": {},
   "outputs": [
    {
     "data": {
      "text/plain": [
       "array(['Masters', 'Diploma', 'HighSchool', 'High School', 'Bachelors',\n",
       "       'Barrrchelors', 'diploma', 'DIPLOMA', 'Diplomaaa', 'Doctorate'],\n",
       "      dtype=object)"
      ]
     },
     "execution_count": 226,
     "metadata": {},
     "output_type": "execute_result"
    }
   ],
   "source": [
    "df['previous_education'].unique()"
   ]
  },
  {
   "cell_type": "markdown",
   "id": "a152deaa",
   "metadata": {},
   "source": [
    "The column previous_education has multiple notations for the same value."
   ]
  },
  {
   "cell_type": "code",
   "execution_count": 227,
   "id": "62dddb0a",
   "metadata": {},
   "outputs": [
    {
     "data": {
      "text/plain": [
       "array(['Masters', 'Diploma', 'High School', 'Bachelors', 'Doctorate'],\n",
       "      dtype=object)"
      ]
     },
     "execution_count": 227,
     "metadata": {},
     "output_type": "execute_result"
    }
   ],
   "source": [
    "df['previous_education'] = (\n",
    "    df['previous_education'].str.strip()\n",
    "    .str.lower()\n",
    "    .replace({'highschool':'high school'})\n",
    "    .replace({'diplomaaa':'diploma'})\n",
    "    .replace({'barrrchelors':'bachelors'})\n",
    "    .str.title()\n",
    ")\n",
    "df['previous_education'].unique()"
   ]
  },
  {
   "cell_type": "markdown",
   "id": "47a64ba1",
   "metadata": {},
   "source": [
    "**Count previous_education values**"
   ]
  },
  {
   "cell_type": "code",
   "execution_count": 228,
   "id": "df3e1bc9",
   "metadata": {},
   "outputs": [
    {
     "data": {
      "text/plain": [
       "previous_education\n",
       "Bachelors      25\n",
       "High School    19\n",
       "Masters        16\n",
       "Diploma        12\n",
       "Doctorate       5\n",
       "Name: count, dtype: int64"
      ]
     },
     "execution_count": 228,
     "metadata": {},
     "output_type": "execute_result"
    }
   ],
   "source": [
    "df['previous_education'].value_counts()"
   ]
  },
  {
   "cell_type": "markdown",
   "id": "eb8b8a4c",
   "metadata": {},
   "source": [
    "**Normalize country**"
   ]
  },
  {
   "cell_type": "code",
   "execution_count": 229,
   "id": "c51fd3ca",
   "metadata": {},
   "outputs": [
    {
     "data": {
      "text/plain": [
       "array(['Norway', 'Kenya', 'Uganda', 'Rsa', 'South Africa', 'Norge',\n",
       "       'norway', 'Denmark', 'Netherlands', 'Italy', 'Spain', 'UK',\n",
       "       'Somali', 'Nigeria', 'Germany', 'France'], dtype=object)"
      ]
     },
     "execution_count": 229,
     "metadata": {},
     "output_type": "execute_result"
    }
   ],
   "source": [
    "df['country'].unique()"
   ]
  },
  {
   "cell_type": "markdown",
   "id": "6af4ba41",
   "metadata": {},
   "source": [
    "The project description indicates inconsistencies with country names. Norge --> Norway, RSA --> South Africa, UK --> United Kingdom"
   ]
  },
  {
   "cell_type": "code",
   "execution_count": 230,
   "id": "6c764dce",
   "metadata": {},
   "outputs": [],
   "source": [
    "df['country'] = (\n",
    "    df['country'].str.strip()\n",
    "    .str.lower()\n",
    "    .replace({'norge':'norway'})\n",
    "    .replace({'rsa':'south africa'})\n",
    "    .replace({'somali':'somalia'})\n",
    "    .str.title()\n",
    "    .replace({'Uk':'UK'})\n",
    ")"
   ]
  },
  {
   "cell_type": "code",
   "execution_count": 231,
   "id": "58c60806",
   "metadata": {},
   "outputs": [
    {
     "data": {
      "text/plain": [
       "array(['Norway', 'Kenya', 'Uganda', 'South Africa', 'Denmark',\n",
       "       'Netherlands', 'Italy', 'Spain', 'UK', 'Somalia', 'Nigeria',\n",
       "       'Germany', 'France'], dtype=object)"
      ]
     },
     "execution_count": 231,
     "metadata": {},
     "output_type": "execute_result"
    }
   ],
   "source": [
    "df['country'].unique()"
   ]
  },
  {
   "cell_type": "code",
   "execution_count": 233,
   "id": "e392cc8d",
   "metadata": {},
   "outputs": [
    {
     "data": {
      "text/plain": [
       "country\n",
       "Norway          49\n",
       "Uganda           4\n",
       "Kenya            3\n",
       "Germany          3\n",
       "South Africa     2\n",
       "Denmark          2\n",
       "Netherlands      2\n",
       "Spain            2\n",
       "Italy            2\n",
       "UK               2\n",
       "Somalia          2\n",
       "Nigeria          2\n",
       "France           2\n",
       "Name: count, dtype: int64"
      ]
     },
     "execution_count": 233,
     "metadata": {},
     "output_type": "execute_result"
    }
   ],
   "source": [
    "df['country'].value_counts()"
   ]
  },
  {
   "cell_type": "markdown",
   "id": "02aff6e0",
   "metadata": {},
   "source": [
    "**Normalize residence**"
   ]
  },
  {
   "cell_type": "code",
   "execution_count": 232,
   "id": "878d210a",
   "metadata": {},
   "outputs": [
    {
     "data": {
      "text/plain": [
       "array(['Private', 'Sognsvann', 'BI Residence', 'BI-Residence',\n",
       "       'BIResidence', 'BI_Residence'], dtype=object)"
      ]
     },
     "execution_count": 232,
     "metadata": {},
     "output_type": "execute_result"
    }
   ],
   "source": [
    "df['residence'].unique()"
   ]
  },
  {
   "cell_type": "markdown",
   "id": "a4b415b2",
   "metadata": {},
   "source": [
    "The column has multiple notations for BI-residence"
   ]
  },
  {
   "cell_type": "code",
   "execution_count": 235,
   "id": "d6eabd55",
   "metadata": {},
   "outputs": [],
   "source": [
    "df['residence'] = (\n",
    "    df['residence'].str.strip()\n",
    "    .replace({'BI-Residence':'BI Residence'})\n",
    "    .replace({'BIResidence':'BI Residence'})\n",
    "    .replace({'BI_Residence':'BI Residence'})\n",
    ")"
   ]
  },
  {
   "cell_type": "code",
   "execution_count": 236,
   "id": "ba00eb60",
   "metadata": {},
   "outputs": [
    {
     "data": {
      "text/plain": [
       "residence\n",
       "Private         33\n",
       "BI Residence    32\n",
       "Sognsvann       12\n",
       "Name: count, dtype: int64"
      ]
     },
     "execution_count": 236,
     "metadata": {},
     "output_type": "execute_result"
    }
   ],
   "source": [
    "df['residence'].value_counts()"
   ]
  }
 ],
 "metadata": {
  "kernelspec": {
   "display_name": "bi_intro (3.13.2)",
   "language": "python",
   "name": "python3"
  },
  "language_info": {
   "codemirror_mode": {
    "name": "ipython",
    "version": 3
   },
   "file_extension": ".py",
   "mimetype": "text/x-python",
   "name": "python",
   "nbconvert_exporter": "python",
   "pygments_lexer": "ipython3",
   "version": "3.13.2"
  }
 },
 "nbformat": 4,
 "nbformat_minor": 5
}
